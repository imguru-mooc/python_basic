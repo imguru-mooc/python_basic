{
 "cells": [
  {
   "cell_type": "markdown",
   "metadata": {},
   "source": [
    "### 클래스 문법"
   ]
  },
  {
   "cell_type": "markdown",
   "metadata": {},
   "source": [
    "#### 빈 클래스 만들기"
   ]
  },
  {
   "cell_type": "code",
   "execution_count": 40,
   "metadata": {},
   "outputs": [],
   "source": [
    "class MyClass:\n",
    "    pass"
   ]
  },
  {
   "attachments": {},
   "cell_type": "markdown",
   "metadata": {},
   "source": [
    "#### 클래스 인스턴스 만들기"
   ]
  },
  {
   "cell_type": "code",
   "execution_count": 46,
   "metadata": {},
   "outputs": [
    {
     "name": "stdout",
     "output_type": "stream",
     "text": [
      "48\n",
      "0x1e1dbcd3d90\n"
     ]
    }
   ],
   "source": [
    "import sys\n",
    "c1 = MyClass()\n",
    "print(sys.getsizeof(c1))\n",
    "print(hex(id(c1)))"
   ]
  },
  {
   "attachments": {},
   "cell_type": "markdown",
   "metadata": {},
   "source": [
    "#### 파이썬에서는 클래스도 객체이다. "
   ]
  },
  {
   "cell_type": "code",
   "execution_count": 45,
   "metadata": {},
   "outputs": [
    {
     "name": "stdout",
     "output_type": "stream",
     "text": [
      "48\n",
      "1064\n",
      "0x1e1dbdab2e0\n",
      "0x1e1db2257f0\n",
      "['__class__', '__delattr__', '__dict__', '__dir__', '__doc__', '__eq__', '__format__', '__ge__', '__getattribute__', '__gt__', '__hash__', '__init__', '__init_subclass__', '__le__', '__lt__', '__module__', '__ne__', '__new__', '__reduce__', '__reduce_ex__', '__repr__', '__setattr__', '__sizeof__', '__str__', '__subclasshook__', '__weakref__']\n",
      "<class '__main__.MyClass'>\n",
      "['__class__', '__delattr__', '__dict__', '__dir__', '__doc__', '__eq__', '__format__', '__ge__', '__getattribute__', '__gt__', '__hash__', '__init__', '__init_subclass__', '__le__', '__lt__', '__module__', '__ne__', '__new__', '__reduce__', '__reduce_ex__', '__repr__', '__setattr__', '__sizeof__', '__str__', '__subclasshook__', '__weakref__']\n",
      "<class 'type'>\n"
     ]
    }
   ],
   "source": [
    "import sys\n",
    "c1 = MyClass()\n",
    "print(sys.getsizeof(c1))\n",
    "print(sys.getsizeof(MyClass))\n",
    "print(hex(id(c1)))\n",
    "print(hex(id(MyClass)))\n",
    "print(dir(c1))\n",
    "print(c1.__class__)\n",
    "print(dir(MyClass))\n",
    "print(MyClass.__class__)"
   ]
  },
  {
   "cell_type": "markdown",
   "metadata": {},
   "source": [
    "#### 클래스 멤버"
   ]
  },
  {
   "cell_type": "code",
   "execution_count": 56,
   "metadata": {},
   "outputs": [],
   "source": [
    "class Rectangle:\n",
    "    count = 0  # 클래스 변수\n",
    " \n",
    "    # 초기자(initializer)\n",
    "    def __init__(self, width, height):\n",
    "        # self.* : 인스턴스변수\n",
    "        self.width = width\n",
    "        self.height = height\n",
    "        Rectangle.count += 1\n",
    " \n",
    "    # 메서드\n",
    "    def calcArea(self):\n",
    "        area = self.width * self.height\n",
    "        return area"
   ]
  },
  {
   "cell_type": "code",
   "execution_count": 60,
   "metadata": {},
   "outputs": [
    {
     "name": "stdout",
     "output_type": "stream",
     "text": [
      "['__class__', '__delattr__', '__dict__', '__dir__', '__doc__', '__eq__', '__format__', '__ge__', '__getattribute__', '__gt__', '__hash__', '__init__', '__init_subclass__', '__le__', '__lt__', '__module__', '__ne__', '__new__', '__reduce__', '__reduce_ex__', '__repr__', '__setattr__', '__sizeof__', '__str__', '__subclasshook__', '__weakref__', 'calcArea', 'count']\n",
      "['__class__', '__delattr__', '__dict__', '__dir__', '__doc__', '__eq__', '__format__', '__ge__', '__getattribute__', '__gt__', '__hash__', '__init__', '__init_subclass__', '__le__', '__lt__', '__module__', '__ne__', '__new__', '__reduce__', '__reduce_ex__', '__repr__', '__setattr__', '__sizeof__', '__str__', '__subclasshook__', '__weakref__', 'calcArea', 'count', 'height', 'width']\n",
      "140725307254656\n",
      "140725307254656\n"
     ]
    }
   ],
   "source": [
    "rect = Rectangle(100, 200)\n",
    "print(dir(Rectangle))\n",
    "print(dir(rect))\n",
    "print(id(rect.count))\n",
    "print(id(Rectangle.count))"
   ]
  },
  {
   "attachments": {},
   "cell_type": "markdown",
   "metadata": {},
   "source": [
    "#### private 멤버"
   ]
  },
  {
   "cell_type": "code",
   "execution_count": 9,
   "metadata": {},
   "outputs": [],
   "source": [
    "class Rectangle:\n",
    "    def __init__(self, width, height):\n",
    "        self.width = width\n",
    "        self.height = height\n",
    " \n",
    "        # private 변수 __area\n",
    "        self.__area = width * height\n",
    " \n",
    "    # private 메서드\n",
    "    def __internalRun(self):\n",
    "        pass"
   ]
  },
  {
   "cell_type": "code",
   "execution_count": 13,
   "metadata": {},
   "outputs": [],
   "source": [
    "rect = Rectangle(200, 300)\n",
    "# rect.__area\n",
    "# rect.__internalRun()"
   ]
  },
  {
   "cell_type": "markdown",
   "metadata": {},
   "source": [
    "#### 정적메서드와 클래스 메서드"
   ]
  },
  {
   "cell_type": "code",
   "execution_count": 64,
   "metadata": {},
   "outputs": [],
   "source": [
    "class Rectangle:\n",
    "    count = 0  # 클래스 변수\n",
    " \n",
    "    def __init__(self, width, height):\n",
    "        self.width = width\n",
    "        self.height = height\n",
    "        Rectangle.count += 1\n",
    " \n",
    "    # 인스턴스 메서드\n",
    "    def calcArea(self):\n",
    "        area = self.width * self.height\n",
    "        return area\n",
    " \n",
    "    # 정적 메서드\n",
    "    @staticmethod\n",
    "    def isSquare(rectWidth, rectHeight):\n",
    "        return rectWidth == rectHeight   \n",
    " \n",
    "    # 클래스 메서드\n",
    "    @classmethod\n",
    "    def printCount(cls):\n",
    "        print(cls.count)   "
   ]
  },
  {
   "cell_type": "code",
   "execution_count": 65,
   "metadata": {},
   "outputs": [
    {
     "name": "stdout",
     "output_type": "stream",
     "text": [
      "True\n",
      "2\n"
     ]
    }
   ],
   "source": [
    "# 테스트\n",
    "square = Rectangle.isSquare(5, 5)        \n",
    "print(square)   # True        \n",
    " \n",
    "rect1 = Rectangle(5, 5)\n",
    "rect2 = Rectangle(2, 5)\n",
    "rect1.printCount()  # 2 "
   ]
  },
  {
   "attachments": {},
   "cell_type": "markdown",
   "metadata": {},
   "source": [
    "1. 정적메서드는 전역적 이므로 self를 인자로 받지 않는다.  따라서 인스턴스 변수에는 접근할 수 없다.  self가 없어도 호출가능 하므로 객체를 만들지 않아도 호출 가능하다.\n",
    "\n",
    "2. 클래스메서드는 클래스에 속한 메서드 이므로 클래스 자체의 주소를 인자로 받아서  클래스 변수를 접근할 수 있다."
   ]
  },
  {
   "cell_type": "markdown",
   "metadata": {},
   "source": [
    "#### 클래스 인스턴스의 생성과 사용"
   ]
  },
  {
   "cell_type": "code",
   "execution_count": 66,
   "metadata": {},
   "outputs": [
    {
     "name": "stdout",
     "output_type": "stream",
     "text": [
      "area =  6\n",
      "width =  10\n",
      "3\n",
      "3\n"
     ]
    }
   ],
   "source": [
    "# 인스턴스 생성\n",
    "r = Rectangle(2, 3)\n",
    " \n",
    "# 메서드 호출\n",
    "area = r.calcArea()\n",
    "print(\"area = \", area)\n",
    " \n",
    "# 인스턴스 변수 엑세스\n",
    "r.width = 10\n",
    "print(\"width = \", r.width)\n",
    " \n",
    "# 클래스 변수 엑세스\n",
    "print(Rectangle.count)\n",
    "print(r.count)"
   ]
  },
  {
   "attachments": {},
   "cell_type": "markdown",
   "metadata": {},
   "source": [
    "#### 연산자 재정의"
   ]
  },
  {
   "cell_type": "code",
   "execution_count": 63,
   "metadata": {},
   "outputs": [
    {
     "name": "stdout",
     "output_type": "stream",
     "text": [
      "__add__()\n"
     ]
    }
   ],
   "source": [
    "class Rectangle:\n",
    "    count = 0  # 클래스 변수\n",
    " \n",
    "    def __init__(self, width, height):\n",
    "        self.width = width\n",
    "        self.height = height\n",
    "        Rectangle.count += 1\n",
    " \n",
    "    def __add__(self, other):\n",
    "        print('__add__()')\n",
    "        obj = Rectangle(self.width + other.width, self.height + other.height)\n",
    "        return obj\n",
    " \n",
    "# 사용 예\n",
    "r1 = Rectangle(10, 5)\n",
    "r2 = Rectangle(20, 15)\n",
    "r3 = r1 + r2  # __add__()가 호출됨"
   ]
  },
  {
   "cell_type": "code",
   "execution_count": null,
   "metadata": {},
   "outputs": [],
   "source": []
  }
 ],
 "metadata": {
  "kernelspec": {
   "display_name": "Python 3",
   "language": "python",
   "name": "python3"
  },
  "language_info": {
   "codemirror_mode": {
    "name": "ipython",
    "version": 3
   },
   "file_extension": ".py",
   "mimetype": "text/x-python",
   "name": "python",
   "nbconvert_exporter": "python",
   "pygments_lexer": "ipython3",
   "version": "3.8.5"
  }
 },
 "nbformat": 4,
 "nbformat_minor": 4
}
