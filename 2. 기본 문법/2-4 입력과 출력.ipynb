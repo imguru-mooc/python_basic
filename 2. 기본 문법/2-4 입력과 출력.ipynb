{
 "cells": [
  {
   "attachments": {},
   "cell_type": "markdown",
   "metadata": {},
   "source": [
    "### 입력"
   ]
  },
  {
   "attachments": {},
   "cell_type": "markdown",
   "metadata": {},
   "source": [
    "#### input() 함수는 콘솔창에서 문자열을 입력 받는 함수"
   ]
  },
  {
   "cell_type": "code",
   "execution_count": 2,
   "metadata": {},
   "outputs": [
    {
     "name": "stdout",
     "output_type": "stream",
     "text": [
      "Enter your name:\n",
      "Hong\n",
      "Hi Hong How are you today?\n"
     ]
    }
   ],
   "source": [
    "print(\"Enter your name:\")\n",
    "somebody = input() \n",
    "print(\"Hi\",somebody,\"How are you today?\")"
   ]
  },
  {
   "attachments": {},
   "cell_type": "markdown",
   "metadata": {},
   "source": [
    "#### 콤마(,) 사용할경우 print 문이 연결됨"
   ]
  },
  {
   "cell_type": "code",
   "execution_count": 3,
   "metadata": {
    "scrolled": true
   },
   "outputs": [
    {
     "name": "stdout",
     "output_type": "stream",
     "text": [
      "Hello World! Hello Again!!!\n"
     ]
    }
   ],
   "source": [
    "print(\"Hello World!\",\"Hello Again!!!\")"
   ]
  },
  {
   "attachments": {},
   "cell_type": "markdown",
   "metadata": {},
   "source": [
    "#### 숫자 입력 받기"
   ]
  },
  {
   "cell_type": "code",
   "execution_count": 4,
   "metadata": {
    "scrolled": true
   },
   "outputs": [
    {
     "name": "stdout",
     "output_type": "stream",
     "text": [
      "온도를입력하세요:103\n",
      "103.0\n"
     ]
    }
   ],
   "source": [
    "temperature =float(input(\"온도를입력하세요:\"))\n",
    "print(temperature)"
   ]
  },
  {
   "cell_type": "markdown",
   "metadata": {},
   "source": [
    "####  입력 값을 변수 두 개에 저장하기"
   ]
  },
  {
   "cell_type": "code",
   "execution_count": 26,
   "metadata": {
    "scrolled": true
   },
   "outputs": [
    {
     "name": "stdout",
     "output_type": "stream",
     "text": [
      "Hello Python\n",
      "Hello\n",
      "Python\n"
     ]
    }
   ],
   "source": [
    "a, b = input().split()\n",
    "print(a)\n",
    "print(b)"
   ]
  },
  {
   "cell_type": "code",
   "execution_count": 30,
   "metadata": {},
   "outputs": [
    {
     "name": "stdout",
     "output_type": "stream",
     "text": [
      "문자열 두 개을 입력하세요: Hello Python\n",
      "Hello\n",
      "Python\n"
     ]
    }
   ],
   "source": [
    "a, b = input('문자열 두 개을 입력하세요: ').split()\n",
    "print(a)\n",
    "print(b)"
   ]
  },
  {
   "cell_type": "code",
   "execution_count": 31,
   "metadata": {},
   "outputs": [
    {
     "name": "stdout",
     "output_type": "stream",
     "text": [
      "Hello,Python\n",
      "Hello\n",
      "Python\n"
     ]
    }
   ],
   "source": [
    "a, b = input().split(\",\")\n",
    "print(a)\n",
    "print(b)"
   ]
  },
  {
   "cell_type": "code",
   "execution_count": 33,
   "metadata": {},
   "outputs": [
    {
     "name": "stdout",
     "output_type": "stream",
     "text": [
      "문자열 두 개을 입력하세요: Hello,Python\n",
      "Hello\n",
      "Python\n"
     ]
    }
   ],
   "source": [
    "a, b = input('문자열 두 개을 입력하세요: ').split(\",\")\n",
    "print(a)\n",
    "print(b)"
   ]
  },
  {
   "cell_type": "markdown",
   "metadata": {},
   "source": [
    "#### 입력 값을 정수로 변환하기"
   ]
  },
  {
   "cell_type": "code",
   "execution_count": 35,
   "metadata": {
    "scrolled": false
   },
   "outputs": [
    {
     "name": "stdout",
     "output_type": "stream",
     "text": [
      "숫자 두 개를 입력하세요: 10 20\n",
      "1020\n"
     ]
    }
   ],
   "source": [
    "a, b = input(\"숫자 두 개를 입력하세요: \").split()\n",
    "print(a + b)"
   ]
  },
  {
   "cell_type": "code",
   "execution_count": 37,
   "metadata": {
    "scrolled": true
   },
   "outputs": [
    {
     "name": "stdout",
     "output_type": "stream",
     "text": [
      "숫자 두 개를 입력하세요: 10 20\n",
      "30\n"
     ]
    }
   ],
   "source": [
    "a, b = input(\"숫자 두 개를 입력하세요: \").split()\n",
    "a = int(a)\n",
    "b = int(b)\n",
    "print(a + b)"
   ]
  },
  {
   "cell_type": "code",
   "execution_count": 38,
   "metadata": {
    "scrolled": true
   },
   "outputs": [
    {
     "name": "stdout",
     "output_type": "stream",
     "text": [
      "숫자 두 개를 입력하세요: 10 20\n",
      "30\n"
     ]
    }
   ],
   "source": [
    "a, b = map(int, input(\"숫자 두 개를 입력하세요: \").split())\n",
    "print(a + b)"
   ]
  },
  {
   "cell_type": "markdown",
   "metadata": {},
   "source": [
    "### 출력"
   ]
  },
  {
   "cell_type": "markdown",
   "metadata": {},
   "source": [
    "#### sep로 값 사이에 문자 넣기"
   ]
  },
  {
   "cell_type": "code",
   "execution_count": 14,
   "metadata": {},
   "outputs": [
    {
     "name": "stdout",
     "output_type": "stream",
     "text": [
      "1 2 3\n"
     ]
    }
   ],
   "source": [
    "print(1, 2, 3)"
   ]
  },
  {
   "cell_type": "code",
   "execution_count": 15,
   "metadata": {},
   "outputs": [
    {
     "name": "stdout",
     "output_type": "stream",
     "text": [
      "Hello Python\n"
     ]
    }
   ],
   "source": [
    "print(\"Hello\", \"Python\")"
   ]
  },
  {
   "cell_type": "code",
   "execution_count": 16,
   "metadata": {},
   "outputs": [
    {
     "name": "stdout",
     "output_type": "stream",
     "text": [
      "1, 2, 3\n"
     ]
    }
   ],
   "source": [
    "print(1, 2, 3, sep=', ')"
   ]
  },
  {
   "cell_type": "code",
   "execution_count": 17,
   "metadata": {},
   "outputs": [
    {
     "name": "stdout",
     "output_type": "stream",
     "text": [
      "1,2,3\n"
     ]
    }
   ],
   "source": [
    "print(1, 2, 3, sep=',')"
   ]
  },
  {
   "cell_type": "code",
   "execution_count": 18,
   "metadata": {},
   "outputs": [
    {
     "name": "stdout",
     "output_type": "stream",
     "text": [
      "HelloPython\n"
     ]
    }
   ],
   "source": [
    "print(\"Hello\", \"Python\", sep=\"\")"
   ]
  },
  {
   "cell_type": "code",
   "execution_count": 19,
   "metadata": {
    "scrolled": true
   },
   "outputs": [
    {
     "name": "stdout",
     "output_type": "stream",
     "text": [
      "1024x768\n"
     ]
    }
   ],
   "source": [
    "print(1024, 768, sep=\"x\")"
   ]
  },
  {
   "cell_type": "code",
   "execution_count": 20,
   "metadata": {
    "scrolled": true
   },
   "outputs": [
    {
     "name": "stdout",
     "output_type": "stream",
     "text": [
      "1\n",
      "2\n",
      "3\n"
     ]
    }
   ],
   "source": [
    "print(1, 2, 3, sep='\\n')"
   ]
  },
  {
   "cell_type": "markdown",
   "metadata": {},
   "source": [
    "#### end 사용하기"
   ]
  },
  {
   "cell_type": "code",
   "execution_count": 21,
   "metadata": {
    "scrolled": true
   },
   "outputs": [
    {
     "name": "stdout",
     "output_type": "stream",
     "text": [
      "1\n",
      "2\n",
      "3\n"
     ]
    }
   ],
   "source": [
    "print(1)\n",
    "print(2)\n",
    "print(3)"
   ]
  },
  {
   "cell_type": "code",
   "execution_count": 22,
   "metadata": {},
   "outputs": [
    {
     "name": "stdout",
     "output_type": "stream",
     "text": [
      "1 2 3\n"
     ]
    }
   ],
   "source": [
    "print(1, end=' ')\n",
    "print(2, end=' ')\n",
    "print(3)"
   ]
  },
  {
   "cell_type": "code",
   "execution_count": 23,
   "metadata": {},
   "outputs": [
    {
     "name": "stdout",
     "output_type": "stream",
     "text": [
      "1\t2\t3\n"
     ]
    }
   ],
   "source": [
    "print(1, end='\\t')\n",
    "print(2, end='\\t')\n",
    "print(3)"
   ]
  },
  {
   "cell_type": "markdown",
   "metadata": {
    "scrolled": true
   },
   "source": [
    "#### print formatting"
   ]
  },
  {
   "cell_type": "code",
   "execution_count": 5,
   "metadata": {
    "scrolled": true
   },
   "outputs": [
    {
     "name": "stdout",
     "output_type": "stream",
     "text": [
      "1 2 3\n",
      "a b c\n",
      "1 2 3\n",
      "a b c\n"
     ]
    }
   ],
   "source": [
    "print(1,2,3)\n",
    "print(\"a\"+\" \"+\"b\"+\" \"+\"c\")\n",
    "print(\"%d %d %d\"%(1,2,3))\n",
    "print(\"{} {} {}\".format(\"a\",\"b\",\"c\"))"
   ]
  },
  {
   "attachments": {},
   "cell_type": "markdown",
   "metadata": {},
   "source": [
    "#### 일반적으로 %-format 과 str.format() 함수를 사용함"
   ]
  },
  {
   "cell_type": "code",
   "execution_count": 6,
   "metadata": {
    "scrolled": true
   },
   "outputs": [
    {
     "name": "stdout",
     "output_type": "stream",
     "text": [
      "one two\n",
      "one two\n",
      "1 2\n",
      "1 2\n"
     ]
    }
   ],
   "source": [
    "print('%s %s'%('one','two'))\n",
    "print('{} {}'.format('one','two'))\n",
    "print('%d %d'%(1,2))\n",
    "print('{} {}'.format(1,2))"
   ]
  },
  {
   "cell_type": "markdown",
   "metadata": {},
   "source": [
    "####  \"%datatype\" % (variable) 형태로 출력 양식을 표현"
   ]
  },
  {
   "cell_type": "code",
   "execution_count": 7,
   "metadata": {
    "scrolled": true
   },
   "outputs": [
    {
     "name": "stdout",
     "output_type": "stream",
     "text": [
      "I eat 3 apples.\n",
      "I eat five apples.\n",
      "I ate 3 apples. I was sick for three days.\n",
      "Product: Apple, Price per unit: 5.243000.\n"
     ]
    }
   ],
   "source": [
    "print(\"I eat %d apples.\"%3)\n",
    "print(\"I eat %s apples.\"%\"five\")\n",
    "number=3\n",
    "day=\"three\"\n",
    "print(\"I ate %d apples. I was sick for %s days.\"%(number,day))\n",
    "print(\"Product: %s, Price per unit: %f.\"%(\"Apple\",5.243))"
   ]
  },
  {
   "cell_type": "code",
   "execution_count": 8,
   "metadata": {},
   "outputs": [
    {
     "name": "stdout",
     "output_type": "stream",
     "text": [
      "Art:   453, Prince per Unit:    59.06\n"
     ]
    }
   ],
   "source": [
    "print(\"Art: %5d, Prince per Unit: %8.2f\" % (453, 59.058))"
   ]
  },
  {
   "cell_type": "markdown",
   "metadata": {},
   "source": [
    "#### str.format()"
   ]
  },
  {
   "cell_type": "code",
   "execution_count": 9,
   "metadata": {},
   "outputs": [
    {
     "name": "stdout",
     "output_type": "stream",
     "text": [
      "I’m 36 years old.\n",
      "My name is Hong gil dong and 36 years old.\n",
      "Product: Apple, Price per unit: 5.243.\n"
     ]
    }
   ],
   "source": [
    "age =36\n",
    "name='Hong gil dong'\n",
    "print(\"I’m {0} years old.\".format(age))\n",
    "print(\"My name is {0} and {1} years old.\".format(name,age))\n",
    "print(\"Product: {0}, Price per unit: {1:.3f}.\".format(\"Apple\",5.243))"
   ]
  },
  {
   "cell_type": "code",
   "execution_count": 10,
   "metadata": {},
   "outputs": [
    {
     "name": "stdout",
     "output_type": "stream",
     "text": [
      "Art:   453, Price per Unit:    59.06\n"
     ]
    }
   ],
   "source": [
    "print(\"Art: {0:5d}, Price per Unit: {1:8.2f}\".format( 453, 59.058))"
   ]
  },
  {
   "cell_type": "markdown",
   "metadata": {},
   "source": [
    "#### padding"
   ]
  },
  {
   "cell_type": "code",
   "execution_count": 11,
   "metadata": {},
   "outputs": [
    {
     "name": "stdout",
     "output_type": "stream",
     "text": [
      "Product: Apple, Price per unit: 5.24300.\n",
      "Product: Apple, Price per unit: 5.24300.\n",
      "Product:      Apple, Price per unit:      5.243.\n",
      "Product:      Apple, Price per unit:      5.243.\n"
     ]
    }
   ],
   "source": [
    "print(\"Product: %5s, Price per unit: %.5f.\"%(\"Apple\",5.243))\n",
    "print(\"Product: {0:5s}, Price per unit: {1:.5f}.\".format(\"Apple\",5.243))\n",
    "print(\"Product: %10s, Price per unit: %10.3f.\"%(\"Apple\",5.243))\n",
    "print(\"Product: {0:>10s}, Price per unit: {1:10.3f}.\".format(\"Apple\",5.243))"
   ]
  },
  {
   "cell_type": "markdown",
   "metadata": {},
   "source": [
    "#### naming"
   ]
  },
  {
   "cell_type": "code",
   "execution_count": 13,
   "metadata": {},
   "outputs": [
    {
     "name": "stdout",
     "output_type": "stream",
     "text": [
      "Product:      Apple, Price per unit:    5.24300.\n",
      "Product:      Apple, Price per unit:    5.24300.\n"
     ]
    }
   ],
   "source": [
    "print(\"Product: %(name)10s, Price per unit: %(price)10.5f.\" % \n",
    "      {\"name\":\"Apple\",\"price\":5.243})\n",
    "\n",
    "print(\"Product: {name:>10s}, Price per unit: {price:10.5f}.\"\n",
    "      .format(name=\"Apple\",price=5.243))"
   ]
  }
 ],
 "metadata": {
  "kernelspec": {
   "display_name": "Python 3",
   "language": "python",
   "name": "python3"
  },
  "language_info": {
   "codemirror_mode": {
    "name": "ipython",
    "version": 3
   },
   "file_extension": ".py",
   "mimetype": "text/x-python",
   "name": "python",
   "nbconvert_exporter": "python",
   "pygments_lexer": "ipython3",
   "version": "3.8.5"
  }
 },
 "nbformat": 4,
 "nbformat_minor": 4
}
