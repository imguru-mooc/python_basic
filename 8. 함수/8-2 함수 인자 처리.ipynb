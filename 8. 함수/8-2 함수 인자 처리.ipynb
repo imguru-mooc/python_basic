{
 "cells": [
  {
   "cell_type": "markdown",
   "metadata": {},
   "source": [
    "#### 함수의 인자 처리"
   ]
  },
  {
   "cell_type": "markdown",
   "metadata": {},
   "source": [
    "#### 키워드 인자\n",
    "- 함수에 입력되는 parameter의 변수명을 사용, arguments를 넘김"
   ]
  },
  {
   "cell_type": "code",
   "execution_count": 1,
   "metadata": {},
   "outputs": [
    {
     "name": "stdout",
     "output_type": "stream",
     "text": [
      "Hello group, My name is Hong\n",
      "Hello group, My name is Hong\n"
     ]
    }
   ],
   "source": [
    "def print_somthing(my_name,your_name):\n",
    "    print(\"Hello {0}, My name is {1}\".format(your_name,my_name))\n",
    "    \n",
    "print_somthing(\"Hong\",\"group\")\n",
    "print_somthing(your_name=\"group\",my_name=\"Hong\")"
   ]
  },
  {
   "cell_type": "markdown",
   "metadata": {},
   "source": [
    "#### 디폴트 인자\n",
    "- parameter의 기본값을 사용, 입력하지 않을 경우 기본값 출력"
   ]
  },
  {
   "cell_type": "code",
   "execution_count": 31,
   "metadata": {},
   "outputs": [
    {
     "name": "stdout",
     "output_type": "stream",
     "text": [
      "Hello group, My name is Hong\n",
      "Hello group, My name is Hong\n"
     ]
    }
   ],
   "source": [
    "def print_somthing(my_name,your_name=\"none name\"):\n",
    "    print(\"Hello {0}, My name is {1}\".format(your_name,my_name))\n",
    "    \n",
    "print_somthing(\"Hong\",\"group\")\n",
    "print_somthing(your_name=\"group\",my_name=\"Hong\")"
   ]
  },
  {
   "cell_type": "markdown",
   "metadata": {},
   "source": [
    "#### 가변인자(Variable-length)\n",
    "- 개수가 정해지지 않은 변수를 함수의 parameter로 사용하는 법\n",
    "- Keyword arguments와 함께, argument 추가가 가능\n",
    "- Asterisk(*) 기호를 사용하여 함수의 parameter를 표시함\n",
    "- 입력된 값은 tupletype으로 사용할 수 있음\n",
    "- 가변인자는 오직 한개만 맨 마지막 parameter 위치에 사용 가능\n",
    "- 가변인자는 일반적으로 *args를 변수명으로 사용\n",
    "- 기존 parameter 이후에 나오는 값을 tuple로 저장함"
   ]
  },
  {
   "cell_type": "code",
   "execution_count": 2,
   "metadata": {},
   "outputs": [
    {
     "name": "stdout",
     "output_type": "stream",
     "text": [
      "(3, 4, 5)\n",
      "15\n"
     ]
    }
   ],
   "source": [
    "def asterisk_test(a, b, *args):\n",
    "    print(args)\n",
    "    return a + b + sum(args)\n",
    "\n",
    "ret = asterisk_test(1,2,3,4,5)\n",
    "print(ret)"
   ]
  },
  {
   "cell_type": "markdown",
   "metadata": {},
   "source": [
    "#### 키워드 가변인자(Keyword variable-length )\n",
    "- Parameter 이름을 따로 지정하지 않고 입력하는 방법\n",
    "- Asterisk(*) 두개를 사용하여 함수의 parameter를 표시함\n",
    "- 입력된 값은 dicttype으로 사용할 수 있음\n",
    "- 가변인자는 오직 한개만 기존 가변인자 다음에 사용"
   ]
  },
  {
   "cell_type": "code",
   "execution_count": 3,
   "metadata": {},
   "outputs": [],
   "source": [
    "def cheeseshop(kind, *arguments, **keywords):\n",
    "    print(\"-- Do you have any\", kind, \"?\")\n",
    "    print(\"-- I'm sorry, we're all out of\", kind)\n",
    "    for arg in arguments:\n",
    "        print(arg)\n",
    "    print(\"-\" * 40)\n",
    "    for kw in keywords:\n",
    "        print(kw, \":\", keywords[kw])"
   ]
  },
  {
   "cell_type": "code",
   "execution_count": 4,
   "metadata": {},
   "outputs": [
    {
     "name": "stdout",
     "output_type": "stream",
     "text": [
      "-- Do you have any Limburger ?\n",
      "-- I'm sorry, we're all out of Limburger\n",
      "It's very runny, sir.\n",
      "It's really very, VERY runny, sir.\n",
      "----------------------------------------\n",
      "shopkeeper : Michael Palin\n",
      "client : John Cleese\n",
      "sketch : Cheese Shop Sketch\n"
     ]
    }
   ],
   "source": [
    "cheeseshop(\"Limburger\", \"It's very runny, sir.\",\n",
    "           \"It's really very, VERY runny, sir.\",\n",
    "           shopkeeper=\"Michael Palin\",\n",
    "           client=\"John Cleese\",\n",
    "           sketch=\"Cheese Shop Sketch\")"
   ]
  },
  {
   "cell_type": "code",
   "execution_count": null,
   "metadata": {},
   "outputs": [],
   "source": []
  }
 ],
 "metadata": {
  "kernelspec": {
   "display_name": "Python 3",
   "language": "python",
   "name": "python3"
  },
  "language_info": {
   "codemirror_mode": {
    "name": "ipython",
    "version": 3
   },
   "file_extension": ".py",
   "mimetype": "text/x-python",
   "name": "python",
   "nbconvert_exporter": "python",
   "pygments_lexer": "ipython3",
   "version": "3.8.5"
  }
 },
 "nbformat": 4,
 "nbformat_minor": 4
}
